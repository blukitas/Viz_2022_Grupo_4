{
 "cells": [
  {
   "cell_type": "code",
   "execution_count": 142,
   "id": "bda42150-df67-49b0-8c8f-ef690ecda085",
   "metadata": {},
   "outputs": [],
   "source": [
    "import pandas as pd\n",
    "import numpy as np\n",
    "import matplotlib.pyplot as plt\n",
    "import os\n",
    "os.chdir(\"C:\\Archivos\\Viz_2022_Grupo_4\")\n"
   ]
  },
  {
   "cell_type": "code",
   "execution_count": 183,
   "id": "c656a09f-fd15-4146-9c0e-731abade8953",
   "metadata": {},
   "outputs": [],
   "source": [
    "path = \"docker\\challenge_data\"\n",
    "\n",
    "#data challange\n",
    "employers = pd.read_csv(path+\"\\Attributes\\Employers.csv\")\n",
    "jobs = pd.read_csv(path+\"\\Attributes\\Jobs.csv\")\n",
    "buildings = pd.read_csv(path+\"\\Attributes\\Buildings.csv\")\n",
    "\n",
    "schools = pd.read_csv(path+\"\\Attributes\\Schools.csv\")\n",
    "pubs = pd.read_csv(path+\"\\Attributes\\Pubs.csv\")\n",
    "restos =pd.read_csv(path+\"\\Attributes\\Restaurants.csv\")\n",
    "\n",
    "financial = pd.read_csv(path+\"\\Journals\\FinancialJournal.csv\")\n",
    "checkin = pd.read_csv(path+\"\\Journals\\CheckinJournal.csv\")\n",
    "\n",
    "# mati tabs\n",
    "jobs = pd.read_csv(\"docker/Files/participant_job.csv\",\n",
    "                    delimiter = \";\", header=1)\n",
    "hrs_spent = pd.read_csv(\"docker/Files/hours_spent_in_venue.csv\",\n",
    "                    delimiter = \";\", header=1)\n",
    "employ = pd.read_csv(\"docker/Files/employer_employee.csv\",\n",
    "                    delimiter = \";\", header=1)"
   ]
  },
  {
   "cell_type": "code",
   "execution_count": 184,
   "id": "ddb8e657-3a2c-4b78-9783-c74f5c4025fd",
   "metadata": {},
   "outputs": [],
   "source": [
    "# asigno el tipo de negocio en funcion del building ID\n",
    "buildings.loc[buildings.buildingId.isin(list(set(pd.unique(restos.buildingId)) )), \n",
    "              \"businessType\"] = \"Restaurant\"\n",
    "buildings.loc[buildings.buildingId.isin(list( set(pd.unique(pubs.buildingId)) )),\n",
    "              \"businessType\"] = \"Pub\"\n",
    "buildings.loc[buildings.buildingId.isin(list(set(pd.unique(schools.buildingId) ))),\n",
    "              \"businessType\"] = \"School\"\n",
    "buildings.loc[buildings.businessType.isnull(), \n",
    "              \"businessType\"] = \"Other\"\n",
    "\n",
    "# buildings[buildings[\"buildingType\"] ==\"Commercial\"]\n",
    "# buildings[buildings[\"businessType\"] !=\"Other\"]"
   ]
  },
  {
   "cell_type": "code",
   "execution_count": 193,
   "id": "3cdb216c-630b-4bff-8ef1-bb770ea6c003",
   "metadata": {},
   "outputs": [
    {
     "name": "stderr",
     "output_type": "stream",
     "text": [
      "C:\\Users\\mateo\\AppData\\Local\\Temp/ipykernel_11924/824357148.py:9: FutureWarning: In a future version of pandas all arguments of DataFrame.drop except for the argument 'labels' will be keyword-only\n",
      "  employers_join = pd.merge(employ[[\"employerid\", \"count\"]],  employers,\n"
     ]
    },
    {
     "data": {
      "text/html": [
       "<div>\n",
       "<style scoped>\n",
       "    .dataframe tbody tr th:only-of-type {\n",
       "        vertical-align: middle;\n",
       "    }\n",
       "\n",
       "    .dataframe tbody tr th {\n",
       "        vertical-align: top;\n",
       "    }\n",
       "\n",
       "    .dataframe thead th {\n",
       "        text-align: right;\n",
       "    }\n",
       "</style>\n",
       "<table border=\"1\" class=\"dataframe\">\n",
       "  <thead>\n",
       "    <tr style=\"text-align: right;\">\n",
       "      <th></th>\n",
       "      <th>count</th>\n",
       "      <th>employerId</th>\n",
       "      <th>location</th>\n",
       "      <th>buildingId</th>\n",
       "      <th>location_x</th>\n",
       "      <th>location_y</th>\n",
       "      <th>buildingType</th>\n",
       "      <th>businessType</th>\n",
       "    </tr>\n",
       "  </thead>\n",
       "  <tbody>\n",
       "    <tr>\n",
       "      <th>0</th>\n",
       "      <td>1</td>\n",
       "      <td>379</td>\n",
       "      <td>POINT (-1849.997168394888 1744.6010147106394)</td>\n",
       "      <td>823</td>\n",
       "      <td>-1849.997168</td>\n",
       "      <td>1744.601015</td>\n",
       "      <td>Commercial</td>\n",
       "      <td>Other</td>\n",
       "    </tr>\n",
       "    <tr>\n",
       "      <th>1</th>\n",
       "      <td>0</td>\n",
       "      <td>380</td>\n",
       "      <td>POINT (41.51783767879146 418.7264799744545)</td>\n",
       "      <td>154</td>\n",
       "      <td>41.517838</td>\n",
       "      <td>418.726480</td>\n",
       "      <td>Commercial</td>\n",
       "      <td>Other</td>\n",
       "    </tr>\n",
       "    <tr>\n",
       "      <th>2</th>\n",
       "      <td>4</td>\n",
       "      <td>381</td>\n",
       "      <td>POINT (877.2786575380362 1358.5441805909259)</td>\n",
       "      <td>279</td>\n",
       "      <td>877.278658</td>\n",
       "      <td>1358.544181</td>\n",
       "      <td>Commercial</td>\n",
       "      <td>Other</td>\n",
       "    </tr>\n",
       "    <tr>\n",
       "      <th>3</th>\n",
       "      <td>4</td>\n",
       "      <td>382</td>\n",
       "      <td>POINT (670.3987400004884 1584.4743462106067)</td>\n",
       "      <td>3</td>\n",
       "      <td>670.398740</td>\n",
       "      <td>1584.474346</td>\n",
       "      <td>Commercial</td>\n",
       "      <td>Other</td>\n",
       "    </tr>\n",
       "    <tr>\n",
       "      <th>4</th>\n",
       "      <td>6</td>\n",
       "      <td>383</td>\n",
       "      <td>POINT (829.9556783260775 2163.4803049897623)</td>\n",
       "      <td>146</td>\n",
       "      <td>829.955678</td>\n",
       "      <td>2163.480305</td>\n",
       "      <td>Commercial</td>\n",
       "      <td>Other</td>\n",
       "    </tr>\n",
       "  </tbody>\n",
       "</table>\n",
       "</div>"
      ],
      "text/plain": [
       "   count  employerId                                       location  \\\n",
       "0      1         379  POINT (-1849.997168394888 1744.6010147106394)   \n",
       "1      0         380    POINT (41.51783767879146 418.7264799744545)   \n",
       "2      4         381   POINT (877.2786575380362 1358.5441805909259)   \n",
       "3      4         382   POINT (670.3987400004884 1584.4743462106067)   \n",
       "4      6         383   POINT (829.9556783260775 2163.4803049897623)   \n",
       "\n",
       "   buildingId   location_x   location_y buildingType businessType  \n",
       "0         823 -1849.997168  1744.601015   Commercial        Other  \n",
       "1         154    41.517838   418.726480   Commercial        Other  \n",
       "2         279   877.278658  1358.544181   Commercial        Other  \n",
       "3           3   670.398740  1584.474346   Commercial        Other  \n",
       "4         146   829.955678  2163.480305   Commercial        Other  "
      ]
     },
     "execution_count": 193,
     "metadata": {},
     "output_type": "execute_result"
    }
   ],
   "source": [
    "# creo georeferencacion de los empleadores\n",
    "employers['location_x'] = employers['location'].map(\n",
    "    lambda x: x.lstrip('POINT (').rstrip(')')).str.split(' ').str[0].astype(float)\n",
    "\n",
    "employers['location_y'] = employers['location'].map(\n",
    "    lambda x: x.lstrip('POINT (').rstrip(')')).str.split(' ').str[1].astype(float)\n",
    "\n",
    "\n",
    "employers_join = pd.merge(employ[[\"employerid\", \"count\"]],  employers,\n",
    "                          how = \"right\", \n",
    "                          left_on = \"employerid\" , right_on = \"employerId\").drop(\"employerid\",1) #join empleadores y cant empleados\n",
    "employers_join = pd.merge(employers_join, buildings[[\"buildingId\", \"buildingType\", \"businessType\"]], \n",
    "                          how = \"left\", left_on = \"buildingId\", right_on = \"buildingId\") # join con edificios\n",
    "employers_join.head()"
   ]
  },
  {
   "cell_type": "code",
   "execution_count": 194,
   "id": "2242feaa-52cf-464c-bfed-f14e3f3b42f8",
   "metadata": {},
   "outputs": [
    {
     "data": {
      "text/plain": [
       "Other         225\n",
       "Restaurant     17\n",
       "Pub            11\n",
       "Name: businessType, dtype: int64"
      ]
     },
     "execution_count": 194,
     "metadata": {},
     "output_type": "execute_result"
    }
   ],
   "source": [
    "employers_join[\"businessType\"].value_counts() #no hay escuelas como empleadores"
   ]
  },
  {
   "cell_type": "code",
   "execution_count": 206,
   "id": "3eafca00-11c7-4518-a79c-1eede6f1375f",
   "metadata": {},
   "outputs": [
    {
     "name": "stderr",
     "output_type": "stream",
     "text": [
      "C:\\Users\\mateo\\AppData\\Local\\Temp/ipykernel_11924/1599917057.py:15: UserWarning: You have mixed positional and keyword arguments, some input may be discarded.\n",
      "  ax.legend(scatter.legend_elements() , labels = list(colors.keys() ) )\n"
     ]
    },
    {
     "data": {
      "text/plain": [
       "<matplotlib.legend.Legend at 0x1d8c50e97f0>"
      ]
     },
     "execution_count": 206,
     "metadata": {},
     "output_type": "execute_result"
    },
    {
     "data": {
      "image/png": "[encoded data removed]",
      "text/plain": [
       "<Figure size 432x288 with 1 Axes>"
      ]
     },
     "metadata": {
      "needs_background": "light"
     },
     "output_type": "display_data"
    }
   ],
   "source": [
    "size = employ[\"count\"].to_numpy()\n",
    "s = [10*s for s in size]\n",
    "\n",
    "colors = {\"Restaurant\": \"green\", \"Pub\": \"red\", \"School\": \"yellow\", \"Other\": \"blue\"}\n",
    "\n",
    "\n",
    "fig, ax = plt.subplots()\n",
    "img = plt.imread(\"data/BaseMap.png\")\n",
    "ax.imshow(img, extent= [employers.location_x.min(),\n",
    "                        employers.location_x.max() ,\n",
    "                        employers.location_y.min() ,\n",
    "                        employers.location_y.max() ] )\n",
    "scatter = ax.scatter(employers.location_x, employers.location_y , s = s, \n",
    "          c = employers_join[\"businessType\"].map(colors) ) \n",
    "ax.legend(scatter.legend_elements() , labels = list(colors.keys() ) ) # legend probleemmm"
   ]
  },
  {
   "cell_type": "code",
   "execution_count": 124,
   "id": "6bddb695-b90d-4742-8868-9e4994acc7e9",
   "metadata": {},
   "outputs": [
    {
     "data": {
      "text/plain": [
       "array(['Commercial', 'Residental', 'School'], dtype=object)"
      ]
     },
     "execution_count": 124,
     "metadata": {},
     "output_type": "execute_result"
    }
   ],
   "source": [
    "pd.unique(buildings.buildingType)"
   ]
  },
  {
   "cell_type": "markdown",
   "id": "101a4076-d71d-4cbd-b594-9c55d0999c75",
   "metadata": {},
   "source": [
    "## Reviso si venuiId coincide con Id de restaurante, pub y school"
   ]
  },
  {
   "cell_type": "code",
   "execution_count": 35,
   "id": "ddd38457-e086-407b-a75f-70db39ee3f37",
   "metadata": {},
   "outputs": [
    {
     "data": {
      "text/plain": [
       "array(['Pub', 'Restaurant', 'Apartment', 'Workplace'], dtype=object)"
      ]
     },
     "execution_count": 35,
     "metadata": {},
     "output_type": "execute_result"
    }
   ],
   "source": [
    "pd.unique(checkin.venueType)"
   ]
  },
  {
   "cell_type": "code",
   "execution_count": 31,
   "id": "14c3cbee-04fc-4afb-b015-02111e23380f",
   "metadata": {},
   "outputs": [
    {
     "name": "stdout",
     "output_type": "stream",
     "text": [
      "1114\n"
     ]
    }
   ],
   "source": [
    "set_checks = set(pd.unique(checkin.venueId) )\n",
    "\n",
    "set_restos = set(pd.unique(restos.restaurantId) )\n",
    "set_pubs = set(pd.unique(pubs.pubId) )\n",
    "set_schools = set(pd.unique(schools.schoolId) )\n",
    "\n",
    "\n",
    "print(len(set_checks) )\n"
   ]
  },
  {
   "cell_type": "code",
   "execution_count": 43,
   "id": "83ba483b-3026-4dad-bb24-fd24ec557edb",
   "metadata": {},
   "outputs": [
    {
     "name": "stdout",
     "output_type": "stream",
     "text": [
      "20\n",
      "12\n",
      "1\n",
      "\n",
      "36\n",
      "33\n"
     ]
    }
   ],
   "source": [
    "cum_largo_sets = 0\n",
    "cum_largo_inter = 0\n",
    "\n",
    "for i in [set_restos, set_pubs, set_schools]:\n",
    "    largo_sets = len(i)\n",
    "    cum_largo_sets+= largo_sets\n",
    "    \n",
    "    largo_inter = len(set_checks.intersection(i ) )\n",
    "    cum_largo_inter += largo_inter\n",
    "    print(largo_inter)\n",
    "\n",
    "print()\n",
    "print(cum_largo_sets)\n",
    "print(cum_largo_inter)"
   ]
  }
 ],
 "metadata": {
  "kernelspec": {
   "display_name": "Python 3 (ipykernel)",
   "language": "python",
   "name": "python3"
  },
  "language_info": {
   "codemirror_mode": {
    "name": "ipython",
    "version": 3
   },
   "file_extension": ".py",
   "mimetype": "text/x-python",
   "name": "python",
   "nbconvert_exporter": "python",
   "pygments_lexer": "ipython3",
   "version": "3.9.6"
  }
 },
 "nbformat": 4,
 "nbformat_minor": 5
}
