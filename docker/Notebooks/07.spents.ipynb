{
 "cells": [
  {
   "cell_type": "code",
   "execution_count": 4,
   "id": "4ea89bee-81ff-487b-8576-a0e5872c716e",
   "metadata": {},
   "outputs": [],
   "source": [
    "import pandas as pd\n",
    "import numpy as np\n",
    "import matplotlib.pyplot as plt\n",
    "import os\n",
    "os.chdir(\"C:/Users/mateo/Documents/repos/Viz_2022_Grupo_4/\")\n"
   ]
  },
  {
   "cell_type": "code",
   "execution_count": 5,
   "id": "92099f94-1fd9-424a-84f1-86f6cefb9033",
   "metadata": {},
   "outputs": [],
   "source": [
    "path = \"docker\\challenge_data\"\n",
    "\n",
    "#data challange\n",
    "employers = pd.read_csv(path+\"\\Attributes\\Employers.csv\")\n",
    "jobs = pd.read_csv(path+\"\\Attributes\\Jobs.csv\")\n",
    "buildings = pd.read_csv(path+\"\\Attributes\\Buildings.csv\")\n",
    "\n",
    "schools = pd.read_csv(path+\"\\Attributes\\Schools.csv\")\n",
    "pubs = pd.read_csv(path+\"\\Attributes\\Pubs.csv\")\n",
    "restos =pd.read_csv(path+\"\\Attributes\\Restaurants.csv\")\n",
    "\n",
    "financial = pd.read_csv(path+\"\\Journals\\FinancialJournal.csv\")\n",
    "checkin = pd.read_csv(path+\"\\Journals\\CheckinJournal.csv\")\n",
    "\n",
    "# mati tabs\n",
    "jobs = pd.read_csv(\"docker/Files/participant_job.csv\",\n",
    "                    delimiter = \";\", header=1)\n",
    "hrs_spent = pd.read_csv(\"docker/Files/hours_spent_in_venue.csv\",\n",
    "                    delimiter = \";\", header=1)\n",
    "employ = pd.read_csv(\"docker/Files/employer_employee.csv\",\n",
    "                    delimiter = \";\", header=1)"
   ]
  },
  {
   "cell_type": "code",
   "execution_count": 6,
   "id": "2fe94340-8a51-4eb8-a64f-68dd901639d7",
   "metadata": {},
   "outputs": [
    {
     "name": "stdout",
     "output_type": "stream",
     "text": [
      "<class 'pandas.core.frame.DataFrame'>\n",
      "RangeIndex: 20 entries, 0 to 19\n",
      "Data columns (total 5 columns):\n",
      " #   Column         Non-Null Count  Dtype  \n",
      "---  ------         --------------  -----  \n",
      " 0   restaurantId   20 non-null     int64  \n",
      " 1   foodCost       20 non-null     float64\n",
      " 2   maxOccupancy   20 non-null     int64  \n",
      " 3   location       20 non-null     object \n",
      " 4   buildingId     20 non-null     int64  \n",
      "dtypes: float64(1), int64(3), object(1)\n",
      "memory usage: 928.0+ bytes\n"
     ]
    }
   ],
   "source": [
    "restos.info()"
   ]
  },
  {
   "cell_type": "code",
   "execution_count": 14,
   "id": "0027c272-4523-4304-aa89-8bbd2d1e5ee4",
   "metadata": {},
   "outputs": [
    {
     "data": {
      "text/html": [
       "<div>\n",
       "<style scoped>\n",
       "    .dataframe tbody tr th:only-of-type {\n",
       "        vertical-align: middle;\n",
       "    }\n",
       "\n",
       "    .dataframe tbody tr th {\n",
       "        vertical-align: top;\n",
       "    }\n",
       "\n",
       "    .dataframe thead th {\n",
       "        text-align: right;\n",
       "    }\n",
       "</style>\n",
       "<table border=\"1\" class=\"dataframe\">\n",
       "  <thead>\n",
       "    <tr style=\"text-align: right;\">\n",
       "      <th></th>\n",
       "      <th>participantid</th>\n",
       "      <th>from_timestamp</th>\n",
       "      <th>to_timestamps</th>\n",
       "      <th>hour_diff</th>\n",
       "      <th>venueid</th>\n",
       "      <th>venuetype</th>\n",
       "    </tr>\n",
       "  </thead>\n",
       "  <tbody>\n",
       "    <tr>\n",
       "      <th>0</th>\n",
       "      <td>619</td>\n",
       "      <td>3/1/22</td>\n",
       "      <td>3/1/22</td>\n",
       "      <td>2.0</td>\n",
       "      <td>1798</td>\n",
       "      <td>Pub</td>\n",
       "    </tr>\n",
       "    <tr>\n",
       "      <th>1</th>\n",
       "      <td>619</td>\n",
       "      <td>3/1/22</td>\n",
       "      <td>3/1/22</td>\n",
       "      <td>0.0</td>\n",
       "      <td>1414</td>\n",
       "      <td>Apartment</td>\n",
       "    </tr>\n",
       "    <tr>\n",
       "      <th>2</th>\n",
       "      <td>619</td>\n",
       "      <td>3/1/22</td>\n",
       "      <td>3/1/22</td>\n",
       "      <td>2.0</td>\n",
       "      <td>1800</td>\n",
       "      <td>Pub</td>\n",
       "    </tr>\n",
       "    <tr>\n",
       "      <th>3</th>\n",
       "      <td>619</td>\n",
       "      <td>3/1/22</td>\n",
       "      <td>3/1/22</td>\n",
       "      <td>1.0</td>\n",
       "      <td>1414</td>\n",
       "      <td>Apartment</td>\n",
       "    </tr>\n",
       "    <tr>\n",
       "      <th>4</th>\n",
       "      <td>619</td>\n",
       "      <td>3/1/22</td>\n",
       "      <td>3/1/22</td>\n",
       "      <td>3.0</td>\n",
       "      <td>1344</td>\n",
       "      <td>Pub</td>\n",
       "    </tr>\n",
       "  </tbody>\n",
       "</table>\n",
       "</div>"
      ],
      "text/plain": [
       "   participantid from_timestamp to_timestamps  hour_diff  venueid  venuetype\n",
       "0            619         3/1/22        3/1/22        2.0     1798        Pub\n",
       "1            619         3/1/22        3/1/22        0.0     1414  Apartment\n",
       "2            619         3/1/22        3/1/22        2.0     1800        Pub\n",
       "3            619         3/1/22        3/1/22        1.0     1414  Apartment\n",
       "4            619         3/1/22        3/1/22        3.0     1344        Pub"
      ]
     },
     "execution_count": 14,
     "metadata": {},
     "output_type": "execute_result"
    }
   ],
   "source": [
    "hrs_spent.head()"
   ]
  },
  {
   "cell_type": "markdown",
   "id": "b0278f5a-5f61-423d-8f21-43a073805290",
   "metadata": {},
   "source": [
    "## Reviso si venuiId coincide con Id de restaurante, pub y school"
   ]
  },
  {
   "cell_type": "code",
   "execution_count": 35,
   "id": "db11be43-4348-41e1-8905-cd7e08bc2d14",
   "metadata": {},
   "outputs": [
    {
     "data": {
      "text/plain": [
       "array(['Pub', 'Restaurant', 'Apartment', 'Workplace'], dtype=object)"
      ]
     },
     "execution_count": 35,
     "metadata": {},
     "output_type": "execute_result"
    }
   ],
   "source": [
    "pd.unique(checkin.venueType)"
   ]
  },
  {
   "cell_type": "code",
   "execution_count": 31,
   "id": "c8580992-99d3-4b11-ae62-479ca830fce6",
   "metadata": {},
   "outputs": [
    {
     "name": "stdout",
     "output_type": "stream",
     "text": [
      "1114\n"
     ]
    }
   ],
   "source": [
    "set_checks = set(pd.unique(checkin.venueId) )\n",
    "\n",
    "set_restos = set(pd.unique(restos.restaurantId) )\n",
    "set_pubs = set(pd.unique(pubs.pubId) )\n",
    "set_schools = set(pd.unique(schools.schoolId) )\n",
    "\n",
    "\n",
    "print(len(set_checks) )\n"
   ]
  },
  {
   "cell_type": "code",
   "execution_count": 43,
   "id": "09f36a9b-e233-43b8-94cc-0efa3b5c2d7f",
   "metadata": {},
   "outputs": [
    {
     "name": "stdout",
     "output_type": "stream",
     "text": [
      "20\n",
      "12\n",
      "1\n",
      "\n",
      "36\n",
      "33\n"
     ]
    }
   ],
   "source": [
    "cum_largo_sets = 0\n",
    "cum_largo_inter = 0\n",
    "\n",
    "for i in [set_restos, set_pubs, set_schools]:\n",
    "    largo_sets = len(i)\n",
    "    cum_largo_sets+= largo_sets\n",
    "    \n",
    "    largo_inter = len(set_checks.intersection(i ) )\n",
    "    cum_largo_inter += largo_inter\n",
    "    print(largo_inter)\n",
    "\n",
    "print()\n",
    "print(cum_largo_sets)\n",
    "print(cum_largo_inter)"
   ]
  },
  {
   "cell_type": "markdown",
   "id": "ce2fc17f-7bc6-4a4f-b96e-ab8a5e2b6e2a",
   "metadata": {},
   "source": [
    "## Concat costs"
   ]
  },
  {
   "cell_type": "code",
   "execution_count": 9,
   "id": "5e49a3cc-207f-4849-9833-230d00a4fe83",
   "metadata": {},
   "outputs": [
    {
     "data": {
      "text/html": [
       "<div>\n",
       "<style scoped>\n",
       "    .dataframe tbody tr th:only-of-type {\n",
       "        vertical-align: middle;\n",
       "    }\n",
       "\n",
       "    .dataframe tbody tr th {\n",
       "        vertical-align: top;\n",
       "    }\n",
       "\n",
       "    .dataframe thead th {\n",
       "        text-align: right;\n",
       "    }\n",
       "</style>\n",
       "<table border=\"1\" class=\"dataframe\">\n",
       "  <thead>\n",
       "    <tr style=\"text-align: right;\">\n",
       "      <th></th>\n",
       "      <th>employerId</th>\n",
       "      <th>location</th>\n",
       "      <th>buildingId</th>\n",
       "    </tr>\n",
       "  </thead>\n",
       "  <tbody>\n",
       "    <tr>\n",
       "      <th>0</th>\n",
       "      <td>379</td>\n",
       "      <td>POINT (-1849.997168394888 1744.6010147106394)</td>\n",
       "      <td>823</td>\n",
       "    </tr>\n",
       "    <tr>\n",
       "      <th>1</th>\n",
       "      <td>380</td>\n",
       "      <td>POINT (41.51783767879146 418.7264799744545)</td>\n",
       "      <td>154</td>\n",
       "    </tr>\n",
       "    <tr>\n",
       "      <th>2</th>\n",
       "      <td>381</td>\n",
       "      <td>POINT (877.2786575380362 1358.5441805909259)</td>\n",
       "      <td>279</td>\n",
       "    </tr>\n",
       "    <tr>\n",
       "      <th>3</th>\n",
       "      <td>382</td>\n",
       "      <td>POINT (670.3987400004884 1584.4743462106067)</td>\n",
       "      <td>3</td>\n",
       "    </tr>\n",
       "    <tr>\n",
       "      <th>4</th>\n",
       "      <td>383</td>\n",
       "      <td>POINT (829.9556783260775 2163.4803049897623)</td>\n",
       "      <td>146</td>\n",
       "    </tr>\n",
       "    <tr>\n",
       "      <th>...</th>\n",
       "      <td>...</td>\n",
       "      <td>...</td>\n",
       "      <td>...</td>\n",
       "    </tr>\n",
       "    <tr>\n",
       "      <th>248</th>\n",
       "      <td>1793</td>\n",
       "      <td>POINT (-3313.211912858075 6185.8337275541235)</td>\n",
       "      <td>738</td>\n",
       "    </tr>\n",
       "    <tr>\n",
       "      <th>249</th>\n",
       "      <td>1794</td>\n",
       "      <td>POINT (-3786.373075235378 4999.485452069126)</td>\n",
       "      <td>802</td>\n",
       "    </tr>\n",
       "    <tr>\n",
       "      <th>250</th>\n",
       "      <td>1795</td>\n",
       "      <td>POINT (-3267.606054814424 6452.56705940432)</td>\n",
       "      <td>953</td>\n",
       "    </tr>\n",
       "    <tr>\n",
       "      <th>251</th>\n",
       "      <td>1796</td>\n",
       "      <td>POINT (-3725.261225376805 6345.551342169127)</td>\n",
       "      <td>1011</td>\n",
       "    </tr>\n",
       "    <tr>\n",
       "      <th>252</th>\n",
       "      <td>1797</td>\n",
       "      <td>POINT (-3759.480918044369 5179.602735764589)</td>\n",
       "      <td>949</td>\n",
       "    </tr>\n",
       "  </tbody>\n",
       "</table>\n",
       "<p>253 rows × 3 columns</p>\n",
       "</div>"
      ],
      "text/plain": [
       "     employerId                                       location  buildingId\n",
       "0           379  POINT (-1849.997168394888 1744.6010147106394)         823\n",
       "1           380    POINT (41.51783767879146 418.7264799744545)         154\n",
       "2           381   POINT (877.2786575380362 1358.5441805909259)         279\n",
       "3           382   POINT (670.3987400004884 1584.4743462106067)           3\n",
       "4           383   POINT (829.9556783260775 2163.4803049897623)         146\n",
       "..          ...                                            ...         ...\n",
       "248        1793  POINT (-3313.211912858075 6185.8337275541235)         738\n",
       "249        1794   POINT (-3786.373075235378 4999.485452069126)         802\n",
       "250        1795    POINT (-3267.606054814424 6452.56705940432)         953\n",
       "251        1796   POINT (-3725.261225376805 6345.551342169127)        1011\n",
       "252        1797   POINT (-3759.480918044369 5179.602735764589)         949\n",
       "\n",
       "[253 rows x 3 columns]"
      ]
     },
     "execution_count": 9,
     "metadata": {},
     "output_type": "execute_result"
    }
   ],
   "source": [
    "employers"
   ]
  },
  {
   "cell_type": "code",
   "execution_count": 15,
   "id": "3399ddd6-8946-48d1-90b1-0d8da21c7d89",
   "metadata": {},
   "outputs": [
    {
     "name": "stdout",
     "output_type": "stream",
     "text": [
      "<class 'pandas.core.frame.DataFrame'>\n",
      "RangeIndex: 12 entries, 0 to 11\n",
      "Data columns (total 5 columns):\n",
      " #   Column        Non-Null Count  Dtype  \n",
      "---  ------        --------------  -----  \n",
      " 0   pubId         12 non-null     int64  \n",
      " 1   hourlyCost    12 non-null     float64\n",
      " 2   maxOccupancy  12 non-null     int64  \n",
      " 3   location      12 non-null     object \n",
      " 4   buildingId    12 non-null     int64  \n",
      "dtypes: float64(1), int64(3), object(1)\n",
      "memory usage: 608.0+ bytes\n"
     ]
    },
    {
     "data": {
      "text/plain": [
       "array([ 442,  443,  444,  892,  893,  894, 1342, 1343, 1344, 1798, 1799,\n",
       "       1800], dtype=int64)"
      ]
     },
     "execution_count": 15,
     "metadata": {},
     "output_type": "execute_result"
    }
   ],
   "source": [
    "pubs.info()\n",
    "pd.unique(pubs.pubId)"
   ]
  },
  {
   "cell_type": "code",
   "execution_count": 13,
   "id": "5b9f090c-a339-4ef7-a360-99b5160553b0",
   "metadata": {},
   "outputs": [
    {
     "name": "stdout",
     "output_type": "stream",
     "text": [
      "<class 'pandas.core.frame.DataFrame'>\n",
      "RangeIndex: 4 entries, 0 to 3\n",
      "Data columns (total 5 columns):\n",
      " #   Column         Non-Null Count  Dtype  \n",
      "---  ------         --------------  -----  \n",
      " 0   schoolId       4 non-null      int64  \n",
      " 1   monthlyCost    4 non-null      float64\n",
      " 2   maxEnrollment  4 non-null      int64  \n",
      " 3   location       4 non-null      object \n",
      " 4   buildingId     4 non-null      int64  \n",
      "dtypes: float64(1), int64(3), object(1)\n",
      "memory usage: 288.0+ bytes\n"
     ]
    }
   ],
   "source": [
    "schools.info()"
   ]
  },
  {
   "cell_type": "code",
   "execution_count": 12,
   "id": "9aee1a02-4af0-4464-b8d2-4770e57e216c",
   "metadata": {},
   "outputs": [
    {
     "name": "stdout",
     "output_type": "stream",
     "text": [
      "<class 'pandas.core.frame.DataFrame'>\n",
      "RangeIndex: 20 entries, 0 to 19\n",
      "Data columns (total 5 columns):\n",
      " #   Column         Non-Null Count  Dtype  \n",
      "---  ------         --------------  -----  \n",
      " 0   restaurantId   20 non-null     int64  \n",
      " 1   foodCost       20 non-null     float64\n",
      " 2   maxOccupancy   20 non-null     int64  \n",
      " 3   location       20 non-null     object \n",
      " 4   buildingId     20 non-null     int64  \n",
      "dtypes: float64(1), int64(3), object(1)\n",
      "memory usage: 928.0+ bytes\n"
     ]
    }
   ],
   "source": [
    "restos.info()"
   ]
  },
  {
   "cell_type": "markdown",
   "id": "97afb14d-e353-4b2d-9a27-d5f416e1e711",
   "metadata": {
    "tags": []
   },
   "source": [
    "## Join"
   ]
  },
  {
   "cell_type": "code",
   "execution_count": null,
   "id": "79448639-b90c-436e-bbbc-cc4fbd06af0e",
   "metadata": {},
   "outputs": [
    {
     "data": {
      "text/html": [
       "<div>\n",
       "<style scoped>\n",
       "    .dataframe tbody tr th:only-of-type {\n",
       "        vertical-align: middle;\n",
       "    }\n",
       "\n",
       "    .dataframe tbody tr th {\n",
       "        vertical-align: top;\n",
       "    }\n",
       "\n",
       "    .dataframe thead th {\n",
       "        text-align: right;\n",
       "    }\n",
       "</style>\n",
       "<table border=\"1\" class=\"dataframe\">\n",
       "  <thead>\n",
       "    <tr style=\"text-align: right;\">\n",
       "      <th></th>\n",
       "      <th>participantid</th>\n",
       "      <th>from_timestamp</th>\n",
       "      <th>to_timestamps</th>\n",
       "      <th>hour_diff</th>\n",
       "      <th>venueid</th>\n",
       "      <th>venuetype</th>\n",
       "      <th>pubId</th>\n",
       "      <th>hourlyCost</th>\n",
       "      <th>buildingId</th>\n",
       "      <th>spents</th>\n",
       "    </tr>\n",
       "  </thead>\n",
       "  <tbody>\n",
       "    <tr>\n",
       "      <th>0</th>\n",
       "      <td>619</td>\n",
       "      <td>3/1/22</td>\n",
       "      <td>3/1/22</td>\n",
       "      <td>2.0</td>\n",
       "      <td>1798</td>\n",
       "      <td>Pub</td>\n",
       "      <td>1798</td>\n",
       "      <td>11.545351</td>\n",
       "      <td>953</td>\n",
       "      <td>23.090702</td>\n",
       "    </tr>\n",
       "    <tr>\n",
       "      <th>1</th>\n",
       "      <td>619</td>\n",
       "      <td>3/2/22</td>\n",
       "      <td>3/2/22</td>\n",
       "      <td>1.0</td>\n",
       "      <td>1798</td>\n",
       "      <td>Pub</td>\n",
       "      <td>1798</td>\n",
       "      <td>11.545351</td>\n",
       "      <td>953</td>\n",
       "      <td>11.545351</td>\n",
       "    </tr>\n",
       "    <tr>\n",
       "      <th>2</th>\n",
       "      <td>619</td>\n",
       "      <td>3/4/22</td>\n",
       "      <td>3/5/22</td>\n",
       "      <td>1.0</td>\n",
       "      <td>1798</td>\n",
       "      <td>Pub</td>\n",
       "      <td>1798</td>\n",
       "      <td>11.545351</td>\n",
       "      <td>953</td>\n",
       "      <td>11.545351</td>\n",
       "    </tr>\n",
       "    <tr>\n",
       "      <th>3</th>\n",
       "      <td>619</td>\n",
       "      <td>3/6/22</td>\n",
       "      <td>3/6/22</td>\n",
       "      <td>2.0</td>\n",
       "      <td>1798</td>\n",
       "      <td>Pub</td>\n",
       "      <td>1798</td>\n",
       "      <td>11.545351</td>\n",
       "      <td>953</td>\n",
       "      <td>23.090702</td>\n",
       "    </tr>\n",
       "    <tr>\n",
       "      <th>4</th>\n",
       "      <td>619</td>\n",
       "      <td>3/6/22</td>\n",
       "      <td>3/6/22</td>\n",
       "      <td>3.0</td>\n",
       "      <td>1798</td>\n",
       "      <td>Pub</td>\n",
       "      <td>1798</td>\n",
       "      <td>11.545351</td>\n",
       "      <td>953</td>\n",
       "      <td>34.636054</td>\n",
       "    </tr>\n",
       "    <tr>\n",
       "      <th>...</th>\n",
       "      <td>...</td>\n",
       "      <td>...</td>\n",
       "      <td>...</td>\n",
       "      <td>...</td>\n",
       "      <td>...</td>\n",
       "      <td>...</td>\n",
       "      <td>...</td>\n",
       "      <td>...</td>\n",
       "      <td>...</td>\n",
       "      <td>...</td>\n",
       "    </tr>\n",
       "    <tr>\n",
       "      <th>294</th>\n",
       "      <td>619</td>\n",
       "      <td>2/13/23</td>\n",
       "      <td>2/14/23</td>\n",
       "      <td>3.0</td>\n",
       "      <td>1342</td>\n",
       "      <td>Pub</td>\n",
       "      <td>1342</td>\n",
       "      <td>14.140037</td>\n",
       "      <td>429</td>\n",
       "      <td>42.420110</td>\n",
       "    </tr>\n",
       "    <tr>\n",
       "      <th>295</th>\n",
       "      <td>619</td>\n",
       "      <td>2/14/23</td>\n",
       "      <td>2/14/23</td>\n",
       "      <td>3.0</td>\n",
       "      <td>1342</td>\n",
       "      <td>Pub</td>\n",
       "      <td>1342</td>\n",
       "      <td>14.140037</td>\n",
       "      <td>429</td>\n",
       "      <td>42.420110</td>\n",
       "    </tr>\n",
       "    <tr>\n",
       "      <th>296</th>\n",
       "      <td>619</td>\n",
       "      <td>3/31/23</td>\n",
       "      <td>4/1/23</td>\n",
       "      <td>0.0</td>\n",
       "      <td>1342</td>\n",
       "      <td>Pub</td>\n",
       "      <td>1342</td>\n",
       "      <td>14.140037</td>\n",
       "      <td>429</td>\n",
       "      <td>0.000000</td>\n",
       "    </tr>\n",
       "    <tr>\n",
       "      <th>297</th>\n",
       "      <td>619</td>\n",
       "      <td>4/1/23</td>\n",
       "      <td>4/1/23</td>\n",
       "      <td>1.0</td>\n",
       "      <td>1342</td>\n",
       "      <td>Pub</td>\n",
       "      <td>1342</td>\n",
       "      <td>14.140037</td>\n",
       "      <td>429</td>\n",
       "      <td>14.140037</td>\n",
       "    </tr>\n",
       "    <tr>\n",
       "      <th>298</th>\n",
       "      <td>619</td>\n",
       "      <td>4/19/23</td>\n",
       "      <td>4/19/23</td>\n",
       "      <td>1.0</td>\n",
       "      <td>1342</td>\n",
       "      <td>Pub</td>\n",
       "      <td>1342</td>\n",
       "      <td>14.140037</td>\n",
       "      <td>429</td>\n",
       "      <td>14.140037</td>\n",
       "    </tr>\n",
       "  </tbody>\n",
       "</table>\n",
       "<p>299 rows × 10 columns</p>\n",
       "</div>"
      ],
      "text/plain": [
       "     participantid from_timestamp to_timestamps  hour_diff  venueid venuetype  \\\n",
       "0              619         3/1/22        3/1/22        2.0     1798       Pub   \n",
       "1              619         3/2/22        3/2/22        1.0     1798       Pub   \n",
       "2              619         3/4/22        3/5/22        1.0     1798       Pub   \n",
       "3              619         3/6/22        3/6/22        2.0     1798       Pub   \n",
       "4              619         3/6/22        3/6/22        3.0     1798       Pub   \n",
       "..             ...            ...           ...        ...      ...       ...   \n",
       "294            619        2/13/23       2/14/23        3.0     1342       Pub   \n",
       "295            619        2/14/23       2/14/23        3.0     1342       Pub   \n",
       "296            619        3/31/23        4/1/23        0.0     1342       Pub   \n",
       "297            619         4/1/23        4/1/23        1.0     1342       Pub   \n",
       "298            619        4/19/23       4/19/23        1.0     1342       Pub   \n",
       "\n",
       "     pubId  hourlyCost  buildingId     spents  \n",
       "0     1798   11.545351         953  23.090702  \n",
       "1     1798   11.545351         953  11.545351  \n",
       "2     1798   11.545351         953  11.545351  \n",
       "3     1798   11.545351         953  23.090702  \n",
       "4     1798   11.545351         953  34.636054  \n",
       "..     ...         ...         ...        ...  \n",
       "294   1342   14.140037         429  42.420110  \n",
       "295   1342   14.140037         429  42.420110  \n",
       "296   1342   14.140037         429   0.000000  \n",
       "297   1342   14.140037         429  14.140037  \n",
       "298   1342   14.140037         429  14.140037  \n",
       "\n",
       "[299 rows x 10 columns]"
      ]
     },
     "execution_count": 16,
     "metadata": {},
     "output_type": "execute_result"
    }
   ],
   "source": [
    "spents_df = pd.merge( hrs_spent , pubs[[\"pubId\", \"hourlyCost\", \"buildingId\"]],\n",
    "        how = \"inner\" , left_on = \"venueid\" ,  right_on = \"pubId\")\n",
    "spents_df[\"spents\"] = spents_df.hourlyCost * spents_df.hour_diff\n",
    "spents_df"
   ]
  },
  {
   "cell_type": "code",
   "execution_count": 17,
   "id": "c652c0b9-6371-4afb-9793-eb63141ce072",
   "metadata": {},
   "outputs": [
    {
     "data": {
      "text/plain": [
       "array([1798, 1800, 1344, 1799, 1342], dtype=int64)"
      ]
     },
     "execution_count": 17,
     "metadata": {},
     "output_type": "execute_result"
    }
   ],
   "source": [
    "pd.unique(spents_df.pubId)"
   ]
  }
 ],
 "metadata": {
  "kernelspec": {
   "display_name": "Python 3 (ipykernel)",
   "language": "python",
   "name": "python3"
  },
  "language_info": {
   "codemirror_mode": {
    "name": "ipython",
    "version": 3
   },
   "file_extension": ".py",
   "mimetype": "text/x-python",
   "name": "python",
   "nbconvert_exporter": "python",
   "pygments_lexer": "ipython3",
   "version": "3.9.12"
  }
 },
 "nbformat": 4,
 "nbformat_minor": 5
}
